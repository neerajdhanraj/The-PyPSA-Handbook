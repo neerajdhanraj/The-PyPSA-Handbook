{
 "cells": [
  {
   "cell_type": "markdown",
   "id": "f8e64e4e",
   "metadata": {},
   "source": [
    "## Case Study 1: Chapter 5 - Decarbonization of an Island (EcoIsle) "
   ]
  },
  {
   "cell_type": "markdown",
   "id": "f1433d18",
   "metadata": {},
   "source": [
    " Authors:   Neeraj Dhanraj Bokde  (www.neerajbokde.in)\n",
    "           and Carlo Fanara\n",
    "\n",
    " Affiliation: Renewable & Sustainable Energy Research Center, TII, Abu Dhabi\n",
    "\n",
    " Corresponding author: neeraj.bokde@tii.ae / neerajdhanraj@gmail.com\n",
    "\n",
    " Description:\n",
    "   This script models the transition of an island (EcoIsle) from a fossil \n",
    "   fuel-based energy system to a predominantly renewable configuration using PyPSA.\n",
    "   It includes: fossil baseline, renewables integration (solar, wind, gas backup), \n",
    "   investment optimization, cost and emissions analysis, and visualizations.\n",
    "\n",
    " Book Reference:\n",
    "   Bokde, N. D., & Fanara, C. (2025). Decarbonization and Renewable Integration.\n",
    "   In: The PyPSA Handbook: Integrated Power System Analysis and Renewable \n",
    "   Energy Modeling, Chapter 5.\n",
    "   Publisher\tElsevier Science\n",
    "   ISBN\t044326631X, 9780443266317\n",
    "\n",
    " Software Dependencies:\n",
    "   - Python 3.8+\n",
    "   - pypsa (v0.21+ recommended)\n",
    "   - numpy, pandas, matplotlib\n",
    "\n",
    " License: MIT\n",
    " \n",
    " Version: 1.0\n",
    " \n",
    " Date: June 2025"
   ]
  },
  {
   "cell_type": "code",
   "execution_count": 1,
   "id": "94d67ee7",
   "metadata": {},
   "outputs": [
    {
     "name": "stderr",
     "output_type": "stream",
     "text": [
      "C:\\Users\\neeraj.bokde\\AppData\\Local\\anaconda3\\lib\\site-packages\\paramiko\\pkey.py:82: CryptographyDeprecationWarning: TripleDES has been moved to cryptography.hazmat.decrepit.ciphers.algorithms.TripleDES and will be removed from this module in 48.0.0.\n",
      "  \"cipher\": algorithms.TripleDES,\n",
      "C:\\Users\\neeraj.bokde\\AppData\\Local\\anaconda3\\lib\\site-packages\\paramiko\\transport.py:219: CryptographyDeprecationWarning: Blowfish has been moved to cryptography.hazmat.decrepit.ciphers.algorithms.Blowfish and will be removed from this module in 45.0.0.\n",
      "  \"class\": algorithms.Blowfish,\n",
      "C:\\Users\\neeraj.bokde\\AppData\\Local\\anaconda3\\lib\\site-packages\\paramiko\\transport.py:243: CryptographyDeprecationWarning: TripleDES has been moved to cryptography.hazmat.decrepit.ciphers.algorithms.TripleDES and will be removed from this module in 48.0.0.\n",
      "  \"class\": algorithms.TripleDES,\n"
     ]
    }
   ],
   "source": [
    "import pypsa\n",
    "import pandas as pd\n",
    "import numpy as np\n",
    "import matplotlib.pyplot as plt"
   ]
  },
  {
   "cell_type": "markdown",
   "id": "226b9d12",
   "metadata": {},
   "source": [
    "### PART 1: Fossil Fuel-Based Reference System"
   ]
  },
  {
   "cell_type": "markdown",
   "id": "dd0c4a59",
   "metadata": {},
   "source": [
    "#### Step 1: Initialize the PyPSA network (fossil system)"
   ]
  },
  {
   "cell_type": "code",
   "execution_count": 2,
   "id": "3d28118e",
   "metadata": {},
   "outputs": [],
   "source": [
    "network_old = pypsa.Network()"
   ]
  },
  {
   "cell_type": "markdown",
   "id": "d46ed427",
   "metadata": {},
   "source": [
    "#### Step 2: Define simulation time frame (24 hours, hourly resolution)"
   ]
  },
  {
   "cell_type": "code",
   "execution_count": 3,
   "id": "9b3e619f",
   "metadata": {},
   "outputs": [],
   "source": [
    "snapshots = pd.date_range(\"2024-01-01\", periods=24, freq=\"h\")\n",
    "network_old.set_snapshots(snapshots)"
   ]
  },
  {
   "cell_type": "markdown",
   "id": "2abcc4fe",
   "metadata": {},
   "source": [
    "#### Step 3: Add a main bus"
   ]
  },
  {
   "cell_type": "code",
   "execution_count": 4,
   "id": "879bf2f7",
   "metadata": {},
   "outputs": [],
   "source": [
    "network_old.add(\"Bus\", \"Main Bus\")"
   ]
  },
  {
   "cell_type": "markdown",
   "id": "bd8a478d",
   "metadata": {},
   "source": [
    "#### Step 4: Add conventional generators (coal and gas)"
   ]
  },
  {
   "cell_type": "code",
   "execution_count": 5,
   "id": "462ab99c",
   "metadata": {},
   "outputs": [],
   "source": [
    "network_old.add(\"Generator\", \"Coal Plant\", \n",
    "                bus=\"Main Bus\",\n",
    "                p_nom=200, \n",
    "                marginal_cost=80, \n",
    "                carrier=\"coal\")\n",
    "network_old.add(\"Generator\", \"Gas Plant\", \n",
    "                bus=\"Main Bus\",\n",
    "                p_nom=150, \n",
    "                marginal_cost=70, \n",
    "                carrier=\"gas\")"
   ]
  },
  {
   "cell_type": "markdown",
   "id": "a41869f8",
   "metadata": {},
   "source": [
    "#### Step 5: Add baseline load profile (hourly demand)"
   ]
  },
  {
   "cell_type": "code",
   "execution_count": 6,
   "id": "6d647460",
   "metadata": {},
   "outputs": [],
   "source": [
    "hourly_load = [180, 170, 165, 160, 160, 165, 170, 180, 190, 200,\n",
    "               210, 220, 230, 240, 245, 250, 245, 240, 230, 220,\n",
    "               210, 200, 190, 185]\n",
    "network_old.add(\"Load\", \"Baseline Load\", bus=\"Main Bus\", p_set=hourly_load)"
   ]
  },
  {
   "cell_type": "markdown",
   "id": "babe7258",
   "metadata": {},
   "source": [
    "#### Step 6: Optimize the fossil network (LOPF)"
   ]
  },
  {
   "cell_type": "code",
   "execution_count": 7,
   "id": "ca17505a",
   "metadata": {},
   "outputs": [
    {
     "name": "stderr",
     "output_type": "stream",
     "text": [
      "C:\\Users\\neeraj.bokde\\AppData\\Local\\anaconda3\\lib\\site-packages\\numpy\\core\\numeric.py:407: RuntimeWarning:\n",
      "\n",
      "invalid value encountered in cast\n",
      "\n",
      "INFO:linopy.model: Solve linear problem using Glpk solver\n",
      "INFO:linopy.io: Writing time: 0.24s\n",
      "INFO:linopy.constants: Optimization successful: \n",
      "Status: ok\n",
      "Termination condition: optimal\n",
      "Solution: 48 primals, 120 duals\n",
      "Objective: 3.52e+05\n",
      "Solver model: not available\n",
      "Solver message: optimal\n",
      "\n"
     ]
    },
    {
     "name": "stdout",
     "output_type": "stream",
     "text": [
      "GLPSOL--GLPK LP/MIP Solver 5.0\r\n",
      "Parameter(s) specified in the command line:\r\n",
      " --lp C:\\Users\\NEERAJ~1.BOK\\AppData\\Local\\Temp\\linopy-problem-zfsspbky.lp\r\n",
      " --output C:\\Users\\NEERAJ~1.BOK\\AppData\\Local\\Temp\\linopy-solve-knrqt5es.sol\r\n",
      "Reading problem data from 'C:\\Users\\NEERAJ~1.BOK\\AppData\\Local\\Temp\\linopy-problem-zfsspbky.lp'...\r\n",
      "120 rows, 48 columns, 144 non-zeros\r\n",
      "740 lines were read\r\n",
      "GLPK Simplex Optimizer 5.0\r\n",
      "120 rows, 48 columns, 144 non-zeros\r\n",
      "Preprocessing...\r\n",
      "~     0: obj =   3.524000000e+05  infeas =  0.000e+00\r\n",
      "OPTIMAL SOLUTION FOUND BY LP PREPROCESSOR\r\n",
      "Time used:   0.0 secs\r\n",
      "Memory used: 0.1 Mb (89780 bytes)\r\n",
      "Writing basic solution to 'C:\\Users\\NEERAJ~1.BOK\\AppData\\Local\\Temp\\linopy-solve-knrqt5es.sol'...\r\n"
     ]
    },
    {
     "data": {
      "text/plain": [
       "('ok', 'optimal')"
      ]
     },
     "execution_count": 7,
     "metadata": {},
     "output_type": "execute_result"
    }
   ],
   "source": [
    "network_old.optimize(solver_name='glpk')"
   ]
  },
  {
   "cell_type": "markdown",
   "id": "a585d764",
   "metadata": {},
   "source": [
    "#### Step 7: Output total system cost (OPEX only)"
   ]
  },
  {
   "cell_type": "code",
   "execution_count": 8,
   "id": "30f2383d",
   "metadata": {},
   "outputs": [
    {
     "name": "stdout",
     "output_type": "stream",
     "text": [
      "\n",
      "====== Fossil System Results ======\n",
      "Initial Fossil System Cost (OPEX only): 352400.00\n"
     ]
    }
   ],
   "source": [
    "print(\"\\n====== Fossil System Results ======\")\n",
    "print(f\"Initial Fossil System Cost (OPEX only): {network_old.objective:.2f}\")"
   ]
  },
  {
   "cell_type": "markdown",
   "id": "a6f41519",
   "metadata": {},
   "source": [
    "### PART 2: Renewable Energy System (Transition)"
   ]
  },
  {
   "cell_type": "markdown",
   "id": "d8dd458f",
   "metadata": {},
   "source": [
    "#### Step 1: Initialize the PyPSA network (renewable system)"
   ]
  },
  {
   "cell_type": "code",
   "execution_count": 9,
   "id": "a1928ef6",
   "metadata": {},
   "outputs": [],
   "source": [
    "network_new = pypsa.Network()\n",
    "network_new.set_snapshots(snapshots)\n",
    "network_new.add(\"Bus\", \"Main Bus\")"
   ]
  },
  {
   "cell_type": "markdown",
   "id": "0318bffe",
   "metadata": {},
   "source": [
    "#### Step 2: Define hourly availability for solar and wind (per-unit)"
   ]
  },
  {
   "cell_type": "code",
   "execution_count": 10,
   "id": "75d70f35",
   "metadata": {},
   "outputs": [],
   "source": [
    "solar_availability = [0, 0, 0, 0, 0, 0, 0.1, 0.2, 0.4, 0.6, 0.8, \n",
    "                      0.9, 1.0, 0.9, 0.8, 0.6, 0.4, 0.2, 0.1, 0, \n",
    "                      0, 0, 0, 0]\n",
    "wind_availability = [0.6, 0.7, 0.8, 0.6, 0.5, 0.4, 0.6, 0.7, 0.8, \n",
    "                     0.7, 0.6, 0.5, 0.4, 0.5, 0.6, 0.7, 0.8, 0.7, \n",
    "                     0.6, 0.5, 0.4, 0.5, 0.6, 0.7]"
   ]
  },
  {
   "cell_type": "markdown",
   "id": "0e64795e",
   "metadata": {},
   "source": [
    "#### Step 3: Add generators (solar PV: extendable, wind: fixed, gas backup: fixed)"
   ]
  },
  {
   "cell_type": "code",
   "execution_count": 11,
   "id": "4d9fe09e",
   "metadata": {},
   "outputs": [],
   "source": [
    "network_new.add(\"Generator\", \"Gas Plant\", \n",
    "                bus=\"Main Bus\",\n",
    "                p_nom=150, \n",
    "                marginal_cost=200,    # Discourage gas use\n",
    "                carrier=\"gas\")\n",
    "\n",
    "network_new.add(\"Generator\", \"Solar PV\", \n",
    "                bus=\"Main Bus\",\n",
    "                p_nom_extendable=True,    # Optimize installed capacity\n",
    "                capital_cost=600,         # Investment cost per MW\n",
    "                marginal_cost=0,\n",
    "                p_max_pu=solar_availability,\n",
    "                carrier=\"solar\")\n",
    "\n",
    "network_new.add(\"Generator\", \"Onshore Wind\", \n",
    "                bus=\"Main Bus\",\n",
    "                p_nom=150,\n",
    "                capital_cost=800,         # Investment cost per MW\n",
    "                marginal_cost=0,\n",
    "                p_max_pu=wind_availability,\n",
    "                carrier=\"wind\")"
   ]
  },
  {
   "cell_type": "markdown",
   "id": "4d573941",
   "metadata": {},
   "source": [
    "#### Step 4: Add baseline load (same as fossil)"
   ]
  },
  {
   "cell_type": "code",
   "execution_count": 12,
   "id": "0ec7c0d1",
   "metadata": {},
   "outputs": [],
   "source": [
    "network_new.add(\"Load\", \"Baseline Load\", \n",
    "                bus=\"Main Bus\", \n",
    "                p_set=hourly_load)"
   ]
  },
  {
   "cell_type": "markdown",
   "id": "bd469b56",
   "metadata": {},
   "source": [
    "#### Step 5: Optimize the renewable system (investment + dispatch optimization)"
   ]
  },
  {
   "cell_type": "code",
   "execution_count": 13,
   "id": "226e1ad5",
   "metadata": {},
   "outputs": [
    {
     "name": "stderr",
     "output_type": "stream",
     "text": [
      "C:\\Users\\neeraj.bokde\\AppData\\Local\\anaconda3\\lib\\site-packages\\numpy\\core\\numeric.py:407: RuntimeWarning:\n",
      "\n",
      "invalid value encountered in cast\n",
      "\n",
      "INFO:linopy.model: Solve linear problem using Glpk solver\n",
      "INFO:linopy.io: Writing time: 0.44s\n",
      "INFO:linopy.constants: Optimization successful: \n",
      "Status: ok\n",
      "Termination condition: optimal\n",
      "Solution: 73 primals, 169 duals\n",
      "Objective: 4.05e+05\n",
      "Solver model: not available\n",
      "Solver message: optimal\n",
      "\n"
     ]
    },
    {
     "name": "stdout",
     "output_type": "stream",
     "text": [
      "GLPSOL--GLPK LP/MIP Solver 5.0\r\n",
      "Parameter(s) specified in the command line:\r\n",
      " --lp C:\\Users\\NEERAJ~1.BOK\\AppData\\Local\\Temp\\linopy-problem-j7hi8sic.lp\r\n",
      " --output C:\\Users\\NEERAJ~1.BOK\\AppData\\Local\\Temp\\linopy-solve-3vjo1dsz.sol\r\n",
      "Reading problem data from 'C:\\Users\\NEERAJ~1.BOK\\AppData\\Local\\Temp\\linopy-problem-j7hi8sic.lp'...\r\n",
      "169 rows, 73 columns, 230 non-zeros\r\n",
      "1024 lines were read\r\n",
      "GLPK Simplex Optimizer 5.0\r\n",
      "169 rows, 73 columns, 230 non-zeros\r\n",
      "Preprocessing...\r\n",
      "26 rows, 27 columns, 52 non-zeros\r\n",
      "Scaling...\r\n",
      " A: min|aij| =  1.000e-01  max|aij| =  1.000e+00  ratio =  1.000e+01\r\n",
      "Problem data seem to be well scaled\r\n",
      "Constructing initial basis...\r\n",
      "Size of triangular part is 26\r\n",
      "      0: obj =   7.820000000e+05 inf =   9.000e+02 (13)\r\n",
      "     18: obj =   6.140000000e+05 inf =   0.000e+00 (0)\r\n",
      "*    46: obj =   4.050000000e+05 inf =   0.000e+00 (0)\r\n",
      "OPTIMAL LP SOLUTION FOUND\r\n",
      "Time used:   0.0 secs\r\n",
      "Memory used: 0.1 Mb (130252 bytes)\r\n",
      "Writing basic solution to 'C:\\Users\\NEERAJ~1.BOK\\AppData\\Local\\Temp\\linopy-solve-3vjo1dsz.sol'...\r\n"
     ]
    },
    {
     "data": {
      "text/plain": [
       "('ok', 'optimal')"
      ]
     },
     "execution_count": 13,
     "metadata": {},
     "output_type": "execute_result"
    }
   ],
   "source": [
    "network_new.optimize(solver_name='glpk')"
   ]
  },
  {
   "cell_type": "markdown",
   "id": "bba2c2ee",
   "metadata": {},
   "source": [
    "#### Step 6: Print total system cost (OPEX + CAPEX) and optimal solar capacity"
   ]
  },
  {
   "cell_type": "code",
   "execution_count": 14,
   "id": "6bc33751",
   "metadata": {},
   "outputs": [
    {
     "name": "stdout",
     "output_type": "stream",
     "text": [
      "\n",
      "====== Renewable System Results ======\n",
      "Renewable System Total Cost (OPEX + CAPEX): 405000.00\n",
      "Optimized Solar PV Capacity: 183.33 MW\n"
     ]
    }
   ],
   "source": [
    "print(\"\\n====== Renewable System Results ======\")\n",
    "print(f\"Renewable System Total Cost (OPEX + CAPEX): {network_new.objective:.2f}\")\n",
    "print(f\"Optimized Solar PV Capacity: {network_new.generators.at['Solar PV', 'p_nom_opt']:.2f} MW\")"
   ]
  },
  {
   "cell_type": "markdown",
   "id": "2bedb037",
   "metadata": {},
   "source": [
    "#### Step 7: Calculate OPEX-only for the renewable system (for comparison)"
   ]
  },
  {
   "cell_type": "code",
   "execution_count": 15,
   "id": "c770b98d",
   "metadata": {},
   "outputs": [
    {
     "name": "stdout",
     "output_type": "stream",
     "text": [
      "Renewable System OPEX only: 295000.07\n"
     ]
    }
   ],
   "source": [
    "renewable_opex = (network_new.generators_t.p * network_new.generators.marginal_cost).sum().sum()\n",
    "print(f\"Renewable System OPEX only: {renewable_opex:.2f}\")"
   ]
  },
  {
   "cell_type": "markdown",
   "id": "0b43b3d1",
   "metadata": {},
   "source": [
    "### PART 3: Economic and Emissions Comparison"
   ]
  },
  {
   "cell_type": "markdown",
   "id": "e6f89025",
   "metadata": {},
   "source": [
    "#### Step 1: Assign emission factors (tons CO2 per MWh)"
   ]
  },
  {
   "cell_type": "code",
   "execution_count": 16,
   "id": "9250a252",
   "metadata": {},
   "outputs": [],
   "source": [
    "emission_factors = {\n",
    "    \"Coal Plant\": 0.9,\n",
    "    \"Gas Plant\": 0.4,\n",
    "    \"Solar PV\": 0,\n",
    "    \"Onshore Wind\": 0\n",
    "}\n",
    "for gen_name, ef in emission_factors.items():\n",
    "    if gen_name in network_old.generators.index:\n",
    "        network_old.generators.loc[gen_name, 'emission_factor'] = ef\n",
    "    if gen_name in network_new.generators.index:\n",
    "        network_new.generators.loc[gen_name, 'emission_factor'] = ef"
   ]
  },
  {
   "cell_type": "markdown",
   "id": "931589d3",
   "metadata": {},
   "source": [
    "#### Step 2: Function to calculate total emissions"
   ]
  },
  {
   "cell_type": "code",
   "execution_count": 17,
   "id": "34e9deb5",
   "metadata": {},
   "outputs": [
    {
     "name": "stdout",
     "output_type": "stream",
     "text": [
      "\n",
      "Fossil System Emissions: 2569.5 tons CO2\n",
      "Renewable System Emissions: 590.0 tons CO2\n"
     ]
    }
   ],
   "source": [
    "def calculate_total_emissions(network):\n",
    "    emissions = 0\n",
    "    for gen_name, gen_data in network.generators.iterrows():\n",
    "        generation = network.generators_t.p[gen_name]\n",
    "        emission_factor = gen_data.get('emission_factor', 0)\n",
    "        emissions += sum(generation * emission_factor)\n",
    "    return emissions\n",
    "\n",
    "old_emissions = calculate_total_emissions(network_old)\n",
    "new_emissions = calculate_total_emissions(network_new)\n",
    "\n",
    "print(f\"\\nFossil System Emissions: {old_emissions:.1f} tons CO2\")\n",
    "print(f\"Renewable System Emissions: {new_emissions:.1f} tons CO2\")"
   ]
  },
  {
   "cell_type": "markdown",
   "id": "545813cb",
   "metadata": {},
   "source": [
    "### PART 4: Generation Dispatch Plots"
   ]
  },
  {
   "cell_type": "code",
   "execution_count": 18,
   "id": "2f68a8b2",
   "metadata": {},
   "outputs": [
    {
     "name": "stdout",
     "output_type": "stream",
     "text": [
      "\n",
      "Plotting generation dispatch for both systems...\n"
     ]
    },
    {
     "data": {
      "image/png": "[encoded data removed]",
      "text/plain": [
       "<Figure size 1500x700 with 1 Axes>"
      ]
     },
     "metadata": {},
     "output_type": "display_data"
    },
    {
     "data": {
      "image/png": "[encoded data removed]",
      "text/plain": [
       "<Figure size 1500x700 with 1 Axes>"
      ]
     },
     "metadata": {},
     "output_type": "display_data"
    }
   ],
   "source": [
    "def plot_generation_dispatch(network, title):\n",
    "    gen_dispatch = network.generators_t.p\n",
    "    gen_dispatch.plot(kind='bar', stacked=True, figsize=(15, 7))\n",
    "    plt.title(title)\n",
    "    plt.xlabel(\"Hour\")\n",
    "    plt.ylabel(\"Generation (MW)\")\n",
    "    plt.legend(title=\"Generator\")\n",
    "    plt.tight_layout()\n",
    "    plt.show()\n",
    "\n",
    "print(\"\\nPlotting generation dispatch for both systems...\")\n",
    "\n",
    "plot_generation_dispatch(network_old, \n",
    "    \"EcoIsle: Generation Dispatch - Fossil Fuel System\")\n",
    "plot_generation_dispatch(network_new, \n",
    "    \"EcoIsle: Generation Dispatch - Renewable System\")"
   ]
  },
  {
   "cell_type": "markdown",
   "id": "9db4dbae",
   "metadata": {},
   "source": [
    "### PART 5: Key Modeling Notes (for reference)"
   ]
  },
  {
   "cell_type": "markdown",
   "id": "04264a72",
   "metadata": {},
   "source": [
    "- PyPSA annualizes CAPEX based on default lifetime (20y) and discount rate (7%)."
   ]
  },
  {
   "cell_type": "markdown",
   "id": "034eb3f1",
   "metadata": {},
   "source": [
    "- Investment optimization via p_nom_extendable=True and capital_cost."
   ]
  },
  {
   "cell_type": "markdown",
   "id": "faf41372",
   "metadata": {},
   "source": [
    "- OPEX = sum of all generator dispatch * marginal cost, over all hours."
   ]
  },
  {
   "cell_type": "markdown",
   "id": "11781f13",
   "metadata": {},
   "source": [
    "- Emission calculation uses per-generator emission factors."
   ]
  },
  {
   "cell_type": "markdown",
   "id": "4768db0c",
   "metadata": {},
   "source": [
    "- Further experiments: fix solar capacity, vary load/gas cost, etc."
   ]
  },
  {
   "cell_type": "markdown",
   "id": "6b65f70f",
   "metadata": {},
   "source": [
    "#### End of EcoIsle Case Study Script"
   ]
  }
 ],
 "metadata": {
  "kernelspec": {
   "display_name": "Python 3 (ipykernel)",
   "language": "python",
   "name": "python3"
  },
  "language_info": {
   "codemirror_mode": {
    "name": "ipython",
    "version": 3
   },
   "file_extension": ".py",
   "mimetype": "text/x-python",
   "name": "python",
   "nbconvert_exporter": "python",
   "pygments_lexer": "ipython3",
   "version": "3.10.9"
  }
 },
 "nbformat": 4,
 "nbformat_minor": 5
}

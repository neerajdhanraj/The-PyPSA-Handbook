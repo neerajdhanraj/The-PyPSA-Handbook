{
 "cells": [
  {
   "cell_type": "markdown",
   "id": "c3726bde",
   "metadata": {},
   "source": [
    "## Case Study 2: Chapter 5 - Windhaven – Integrating Wind Energy and Storage Units"
   ]
  },
  {
   "cell_type": "markdown",
   "id": "cb597018",
   "metadata": {},
   "source": [
    " Authors:   Neeraj Dhanraj Bokde  (www.neerajbokde.in)\n",
    "            and Carlo Fanara\n",
    "            \n",
    " Affiliation: Renewable & Sustainable Energy Research Center, TII, Abu Dhabi\n",
    " \n",
    " Corresponding author: neeraj.bokde@tii.ae / neerajdhanraj@gmail.com\n",
    "\n",
    " Description:\n",
    "   This script models the impact of adding wind generation and battery storage\n",
    "   to a conventionally fossil-based grid using PyPSA. Two networks are compared:\n",
    "   (1) baseline fossil system, (2) system with wind farm and battery.\n",
    "   Economic, operational, storage, and emissions results are calculated and visualized.\n",
    "\n",
    " Book Reference:\n",
    "   Bokde, N. D., & Fanara, C. (2025). Decarbonization and Renewable Integration.\n",
    "   In: The PyPSA Handbook: Integrated Power System Analysis and Renewable \n",
    "   Energy Modeling, Chapter 5. \n",
    "   Publisher: Elsevier Science\n",
    "   ISBN: 044326631X, 9780443266317\n",
    "\n",
    " Software Dependencies:\n",
    "   - Python 3.8+\n",
    "   - pypsa (v0.21+ recommended)\n",
    "   - numpy, pandas, matplotlib\n",
    "\n",
    " License: MIT\n",
    "\n",
    " Version: 1.0\n",
    "\n",
    " Date: June 2025"
   ]
  },
  {
   "cell_type": "code",
   "execution_count": 1,
   "id": "dd5a43e1",
   "metadata": {},
   "outputs": [
    {
     "name": "stderr",
     "output_type": "stream",
     "text": [
      "C:\\Users\\neeraj.bokde\\AppData\\Local\\anaconda3\\lib\\site-packages\\paramiko\\pkey.py:82: CryptographyDeprecationWarning: TripleDES has been moved to cryptography.hazmat.decrepit.ciphers.algorithms.TripleDES and will be removed from this module in 48.0.0.\n",
      "  \"cipher\": algorithms.TripleDES,\n",
      "C:\\Users\\neeraj.bokde\\AppData\\Local\\anaconda3\\lib\\site-packages\\paramiko\\transport.py:219: CryptographyDeprecationWarning: Blowfish has been moved to cryptography.hazmat.decrepit.ciphers.algorithms.Blowfish and will be removed from this module in 45.0.0.\n",
      "  \"class\": algorithms.Blowfish,\n",
      "C:\\Users\\neeraj.bokde\\AppData\\Local\\anaconda3\\lib\\site-packages\\paramiko\\transport.py:243: CryptographyDeprecationWarning: TripleDES has been moved to cryptography.hazmat.decrepit.ciphers.algorithms.TripleDES and will be removed from this module in 48.0.0.\n",
      "  \"class\": algorithms.TripleDES,\n"
     ]
    }
   ],
   "source": [
    "import pypsa\n",
    "import pandas as pd\n",
    "import numpy as np\n",
    "import matplotlib.pyplot as plt"
   ]
  },
  {
   "cell_type": "markdown",
   "id": "350ca5ce",
   "metadata": {},
   "source": [
    "### PART 1: Baseline Fossil Fuel-Based Grid"
   ]
  },
  {
   "cell_type": "markdown",
   "id": "35081fd5",
   "metadata": {},
   "source": [
    "#### Step 1: Initialize the PyPSA network (baseline)"
   ]
  },
  {
   "cell_type": "code",
   "execution_count": 2,
   "id": "34b4f865",
   "metadata": {},
   "outputs": [],
   "source": [
    "network_old = pypsa.Network()\n",
    "network_old.set_snapshots(range(24))"
   ]
  },
  {
   "cell_type": "markdown",
   "id": "b59a8633",
   "metadata": {},
   "source": [
    "#### Step 2: Add a main bus"
   ]
  },
  {
   "cell_type": "code",
   "execution_count": 3,
   "id": "33402187",
   "metadata": {},
   "outputs": [],
   "source": [
    "network_old.add(\"Bus\", \"Main Bus\")"
   ]
  },
  {
   "cell_type": "markdown",
   "id": "30f68324",
   "metadata": {},
   "source": [
    "#### Step 3: Add conventional generators (coal and gas)"
   ]
  },
  {
   "cell_type": "code",
   "execution_count": 4,
   "id": "0ffb8dda",
   "metadata": {},
   "outputs": [],
   "source": [
    "network_old.add(\"Generator\", \"Coal Plant\",\n",
    "                bus=\"Main Bus\",\n",
    "                p_nom=150,\n",
    "                marginal_cost=70,\n",
    "                carrier=\"coal\",\n",
    "                p_max_pu=[1.0]*24)\n",
    "network_old.add(\"Generator\", \"Gas Plant\",\n",
    "                bus=\"Main Bus\",\n",
    "                p_nom=100,\n",
    "                marginal_cost=50,\n",
    "                carrier=\"gas\",\n",
    "                p_max_pu=[1.0]*24)"
   ]
  },
  {
   "cell_type": "markdown",
   "id": "ebd4249f",
   "metadata": {},
   "source": [
    "#### Step 4: Define a dynamic daily load profile"
   ]
  },
  {
   "cell_type": "code",
   "execution_count": 5,
   "id": "42ffbf49",
   "metadata": {},
   "outputs": [],
   "source": [
    "dynamic_load = [100, 120, 140, 160, 180, 200, 220, 200, 180,\n",
    "                160, 140, 120, 110, 100, 110, 120, 140, 160,\n",
    "                180, 200, 220, 200, 180, 140]\n",
    "network_old.add(\"Load\", \"City Load\", bus=\"Main Bus\", p_set=dynamic_load)"
   ]
  },
  {
   "cell_type": "markdown",
   "id": "8173f0b8",
   "metadata": {},
   "source": [
    "#### Step 5: Optimize baseline network"
   ]
  },
  {
   "cell_type": "code",
   "execution_count": 6,
   "id": "53ebd35e",
   "metadata": {},
   "outputs": [
    {
     "name": "stderr",
     "output_type": "stream",
     "text": [
      "C:\\Users\\neeraj.bokde\\AppData\\Local\\anaconda3\\lib\\site-packages\\numpy\\core\\numeric.py:407: RuntimeWarning:\n",
      "\n",
      "invalid value encountered in cast\n",
      "\n",
      "INFO:linopy.model: Solve linear problem using Glpk solver\n",
      "INFO:linopy.io: Writing time: 0.23s\n",
      "INFO:linopy.constants: Optimization successful: \n",
      "Status: ok\n",
      "Termination condition: optimal\n",
      "Solution: 48 primals, 120 duals\n",
      "Objective: 2.17e+05\n",
      "Solver model: not available\n",
      "Solver message: optimal\n",
      "\n"
     ]
    },
    {
     "name": "stdout",
     "output_type": "stream",
     "text": [
      "GLPSOL--GLPK LP/MIP Solver 5.0\r\n",
      "Parameter(s) specified in the command line:\r\n",
      " --lp C:\\Users\\NEERAJ~1.BOK\\AppData\\Local\\Temp\\linopy-problem-eukj73u1.lp\r\n",
      " --output C:\\Users\\NEERAJ~1.BOK\\AppData\\Local\\Temp\\linopy-solve-wkq0xuu2.sol\r\n",
      "Reading problem data from 'C:\\Users\\NEERAJ~1.BOK\\AppData\\Local\\Temp\\linopy-problem-eukj73u1.lp'...\r\n",
      "120 rows, 48 columns, 144 non-zeros\r\n",
      "740 lines were read\r\n",
      "GLPK Simplex Optimizer 5.0\r\n",
      "120 rows, 48 columns, 144 non-zeros\r\n",
      "Preprocessing...\r\n",
      "~     0: obj =   2.166000000e+05  infeas =  0.000e+00\r\n",
      "OPTIMAL SOLUTION FOUND BY LP PREPROCESSOR\r\n",
      "Time used:   0.0 secs\r\n",
      "Memory used: 0.1 Mb (89780 bytes)\r\n",
      "Writing basic solution to 'C:\\Users\\NEERAJ~1.BOK\\AppData\\Local\\Temp\\linopy-solve-wkq0xuu2.sol'...\r\n"
     ]
    },
    {
     "data": {
      "text/plain": [
       "('ok', 'optimal')"
      ]
     },
     "execution_count": 6,
     "metadata": {},
     "output_type": "execute_result"
    }
   ],
   "source": [
    "network_old.optimize(solver_name='glpk')"
   ]
  },
  {
   "cell_type": "markdown",
   "id": "19f3f28d",
   "metadata": {},
   "source": [
    "#### Step 6: Output baseline cost"
   ]
  },
  {
   "cell_type": "code",
   "execution_count": 7,
   "id": "f725f5c8",
   "metadata": {},
   "outputs": [
    {
     "name": "stdout",
     "output_type": "stream",
     "text": [
      "\n",
      "====== Windhaven Fossil Baseline ======\n",
      "Total System Cost (OPEX): 216600.00\n"
     ]
    }
   ],
   "source": [
    "print(\"\\n====== Windhaven Fossil Baseline ======\")\n",
    "print(f\"Total System Cost (OPEX): {network_old.objective:.2f}\")"
   ]
  },
  {
   "cell_type": "markdown",
   "id": "3378a8fd",
   "metadata": {},
   "source": [
    "### PART 2: Wind and Storage Integration"
   ]
  },
  {
   "cell_type": "markdown",
   "id": "6228316d",
   "metadata": {},
   "source": [
    "#### Step 1: Initialize new network"
   ]
  },
  {
   "cell_type": "code",
   "execution_count": 8,
   "id": "17d7e067",
   "metadata": {},
   "outputs": [],
   "source": [
    "network_new = pypsa.Network()\n",
    "network_new.set_snapshots(range(24))"
   ]
  },
  {
   "cell_type": "markdown",
   "id": "4e4ab5f0",
   "metadata": {},
   "source": [
    "#### Step 2: Replicate bus structure"
   ]
  },
  {
   "cell_type": "code",
   "execution_count": 9,
   "id": "4109ab9a",
   "metadata": {},
   "outputs": [],
   "source": [
    "network_new.add(\"Bus\", \"Main Bus\")"
   ]
  },
  {
   "cell_type": "markdown",
   "id": "f75f1049",
   "metadata": {},
   "source": [
    "#### Step 3: Copy fossil generators (ensure robust copy)"
   ]
  },
  {
   "cell_type": "code",
   "execution_count": 10,
   "id": "b8565ab9",
   "metadata": {},
   "outputs": [],
   "source": [
    "for gen in network_old.generators.index:\n",
    "    gen_data = network_old.generators.loc[gen]\n",
    "    # If capital_cost column is missing (PyPSA default), set to 0\n",
    "    capital_cost = gen_data.capital_cost if 'capital_cost' in gen_data.index else 0\n",
    "    network_new.add(\"Generator\", gen, \n",
    "                    bus=gen_data.bus, \n",
    "                    p_nom=gen_data.p_nom, \n",
    "                    marginal_cost=gen_data.marginal_cost, \n",
    "                    capital_cost=capital_cost, \n",
    "                    carrier=gen_data.carrier,\n",
    "                    p_max_pu=[1.0]*24)"
   ]
  },
  {
   "cell_type": "markdown",
   "id": "43250a34",
   "metadata": {},
   "source": [
    "#### Step 4: Add dynamic load"
   ]
  },
  {
   "cell_type": "code",
   "execution_count": 11,
   "id": "f575bcd2",
   "metadata": {},
   "outputs": [],
   "source": [
    "network_new.add(\"Load\", \"City Load\", bus=\"Main Bus\", p_set=dynamic_load)"
   ]
  },
  {
   "cell_type": "markdown",
   "id": "471a498f",
   "metadata": {},
   "source": [
    "#### Step 5: Define wind pattern over 24 hours"
   ]
  },
  {
   "cell_type": "code",
   "execution_count": 12,
   "id": "ee343d07",
   "metadata": {},
   "outputs": [],
   "source": [
    "wind_pattern = [0.3, 0.4, 0.5, 0.6, 0.7, 0.8, 0.9, 0.85,\n",
    "                0.8, 0.75, 0.7, 0.65, 0.6, 0.55, 0.5, 0.45,\n",
    "                0.4, 0.35, 0.3, 0.25, 0.2, 0.15, 0.1, 0.05]"
   ]
  },
  {
   "cell_type": "markdown",
   "id": "67f6a061",
   "metadata": {},
   "source": [
    "#### Step 6: Add wind generator (100 MW, capital and marginal cost)"
   ]
  },
  {
   "cell_type": "code",
   "execution_count": 13,
   "id": "ddacb785",
   "metadata": {},
   "outputs": [],
   "source": [
    "network_new.add(\"Generator\", \"Wind Farm\",\n",
    "                bus=\"Main Bus\",\n",
    "                p_nom=100,\n",
    "                capital_cost=600,\n",
    "                marginal_cost=10,\n",
    "                carrier=\"wind\",\n",
    "                p_max_pu=wind_pattern)"
   ]
  },
  {
   "cell_type": "markdown",
   "id": "4d8448ec",
   "metadata": {},
   "source": [
    "#### Step 7: Add battery storage unit"
   ]
  },
  {
   "cell_type": "code",
   "execution_count": 14,
   "id": "772ac7f3",
   "metadata": {},
   "outputs": [],
   "source": [
    "network_new.add(\"StorageUnit\", \"Battery Storage\",\n",
    "                bus=\"Main Bus\",\n",
    "                p_nom=40,\n",
    "                capital_cost=200,\n",
    "                marginal_cost=0.01,\n",
    "                efficiency_store=0.95,\n",
    "                efficiency_dispatch=0.95,\n",
    "                state_of_charge_initial=0.1)"
   ]
  },
  {
   "cell_type": "markdown",
   "id": "33ae4d6a",
   "metadata": {},
   "source": [
    "#### Step 8: Optimize new network"
   ]
  },
  {
   "cell_type": "code",
   "execution_count": 15,
   "id": "74d07a02",
   "metadata": {},
   "outputs": [
    {
     "name": "stderr",
     "output_type": "stream",
     "text": [
      "C:\\Users\\neeraj.bokde\\AppData\\Local\\anaconda3\\lib\\site-packages\\numpy\\core\\numeric.py:407: RuntimeWarning:\n",
      "\n",
      "invalid value encountered in cast\n",
      "\n",
      "INFO:linopy.model: Solve linear problem using Glpk solver\n",
      "INFO:linopy.io: Writing time: 0.71s\n",
      "INFO:linopy.constants: Optimization successful: \n",
      "Status: ok\n",
      "Termination condition: optimal\n",
      "Solution: 144 primals, 336 duals\n",
      "Objective: 1.51e+05\n",
      "Solver model: not available\n",
      "Solver message: optimal\n",
      "\n"
     ]
    },
    {
     "name": "stdout",
     "output_type": "stream",
     "text": [
      "GLPSOL--GLPK LP/MIP Solver 5.0\r\n",
      "Parameter(s) specified in the command line:\r\n",
      " --lp C:\\Users\\NEERAJ~1.BOK\\AppData\\Local\\Temp\\linopy-problem-gwfc4fuk.lp\r\n",
      " --output C:\\Users\\NEERAJ~1.BOK\\AppData\\Local\\Temp\\linopy-solve-gr5o3pvy.sol\r\n",
      "Reading problem data from 'C:\\Users\\NEERAJ~1.BOK\\AppData\\Local\\Temp\\linopy-problem-gwfc4fuk.lp'...\r\n",
      "336 rows, 144 columns, 503 non-zeros\r\n",
      "2107 lines were read\r\n",
      "GLPK Simplex Optimizer 5.0\r\n",
      "336 rows, 144 columns, 503 non-zeros\r\n",
      "Preprocessing...\r\n",
      "48 rows, 119 columns, 190 non-zeros\r\n",
      "Scaling...\r\n",
      " A: min|aij| =  9.500e-01  max|aij| =  1.053e+00  ratio =  1.108e+00\r\n",
      "Problem data seem to be well scaled\r\n",
      "Constructing initial basis...\r\n",
      "Size of triangular part is 48\r\n",
      "      0: obj =   2.645926316e+05 inf =   4.901e+02 (14)\r\n",
      "     16: obj =   2.547933510e+05 inf =   0.000e+00 (0)\r\n",
      "*    93: obj =   1.507860232e+05 inf =   0.000e+00 (0)\r\n",
      "OPTIMAL LP SOLUTION FOUND\r\n",
      "Time used:   0.0 secs\r\n",
      "Memory used: 0.2 Mb (253484 bytes)\r\n",
      "Writing basic solution to 'C:\\Users\\NEERAJ~1.BOK\\AppData\\Local\\Temp\\linopy-solve-gr5o3pvy.sol'...\r\n"
     ]
    },
    {
     "data": {
      "text/plain": [
       "('ok', 'optimal')"
      ]
     },
     "execution_count": 15,
     "metadata": {},
     "output_type": "execute_result"
    }
   ],
   "source": [
    "network_new.optimize(solver_name='glpk')"
   ]
  },
  {
   "cell_type": "markdown",
   "id": "0a81ea82",
   "metadata": {},
   "source": [
    "#### Step 9: Output results (cost, wind use, storage)"
   ]
  },
  {
   "cell_type": "code",
   "execution_count": 16,
   "id": "970bc07d",
   "metadata": {},
   "outputs": [
    {
     "name": "stdout",
     "output_type": "stream",
     "text": [
      "\n",
      "====== Windhaven with Wind and Storage ======\n",
      "Total System Cost (OPEX + CAPEX): 150786.02\n"
     ]
    }
   ],
   "source": [
    "print(\"\\n====== Windhaven with Wind and Storage ======\")\n",
    "print(f\"Total System Cost (OPEX + CAPEX): {network_new.objective:.2f}\")"
   ]
  },
  {
   "cell_type": "markdown",
   "id": "134bb258",
   "metadata": {},
   "source": [
    "### PART 3: Storage Unit Analysis"
   ]
  },
  {
   "cell_type": "code",
   "execution_count": 17,
   "id": "e4351c7d",
   "metadata": {},
   "outputs": [
    {
     "name": "stdout",
     "output_type": "stream",
     "text": [
      "\n",
      "Battery Storage Charging (MW):\n",
      "snapshot\n",
      "0     12.00\n",
      "1     20.00\n",
      "2     10.00\n",
      "3      0.00\n",
      "4      0.00\n",
      "5      0.00\n",
      "6      0.00\n",
      "7      0.00\n",
      "8      0.00\n",
      "9      0.00\n",
      "10     0.00\n",
      "11     0.00\n",
      "12     0.00\n",
      "13     0.00\n",
      "14    17.11\n",
      "15    25.00\n",
      "16     0.00\n",
      "17     0.00\n",
      "18     0.00\n",
      "19     0.00\n",
      "20     0.00\n",
      "21     0.00\n",
      "22     0.00\n",
      "23     0.00\n",
      "Name: Battery Storage, dtype: float64\n",
      "\n",
      "Battery Storage Discharging (MW):\n",
      "snapshot\n",
      "0      0.0\n",
      "1      0.0\n",
      "2      0.0\n",
      "3      0.0\n",
      "4     10.0\n",
      "5     20.0\n",
      "6      8.0\n",
      "7      0.0\n",
      "8      0.0\n",
      "9      0.0\n",
      "10     0.0\n",
      "11     0.0\n",
      "12     0.0\n",
      "13     0.0\n",
      "14     0.0\n",
      "15     0.0\n",
      "16     0.0\n",
      "17    25.0\n",
      "18    13.0\n",
      "19     0.0\n",
      "20     0.0\n",
      "21     0.0\n",
      "22     0.0\n",
      "23     0.0\n",
      "Name: Battery Storage, dtype: float64\n",
      "\n",
      "Battery State of Charge (MWh):\n",
      "snapshot\n",
      "0     11.50\n",
      "1     30.50\n",
      "2     40.00\n",
      "3     40.00\n",
      "4     29.47\n",
      "5      8.42\n",
      "6      0.00\n",
      "7      0.00\n",
      "8      0.00\n",
      "9      0.00\n",
      "10     0.00\n",
      "11     0.00\n",
      "12     0.00\n",
      "13     0.00\n",
      "14    16.25\n",
      "15    40.00\n",
      "16    40.00\n",
      "17    13.68\n",
      "18     0.00\n",
      "19     0.00\n",
      "20     0.00\n",
      "21     0.00\n",
      "22     0.00\n",
      "23     0.00\n",
      "Name: Battery Storage, dtype: float64\n"
     ]
    }
   ],
   "source": [
    "print(\"\\nBattery Storage Charging (MW):\")\n",
    "print(network_new.storage_units_t.p_store[\"Battery Storage\"].round(2))\n",
    "\n",
    "print(\"\\nBattery Storage Discharging (MW):\")\n",
    "print(network_new.storage_units_t.p_dispatch[\"Battery Storage\"].round(2))\n",
    "\n",
    "print(\"\\nBattery State of Charge (MWh):\")\n",
    "print(network_new.storage_units_t.state_of_charge[\"Battery Storage\"].round(2))"
   ]
  },
  {
   "cell_type": "markdown",
   "id": "5265a4d1",
   "metadata": {},
   "source": [
    "### PART 4: Generation Dispatch Plots"
   ]
  },
  {
   "cell_type": "markdown",
   "id": "debf750b",
   "metadata": {},
   "source": [
    "##### Step 1: Organize data for plotting"
   ]
  },
  {
   "cell_type": "code",
   "execution_count": 18,
   "id": "3c805ca3",
   "metadata": {},
   "outputs": [],
   "source": [
    "hours = range(24)\n",
    "generation = network_new.generators_t.p\n",
    "storage_charging = network_new.storage_units_t.p_store[\"Battery Storage\"]\n",
    "storage_discharging = network_new.storage_units_t.p_dispatch[\"Battery Storage\"]\n",
    "storage_soc = network_new.storage_units_t.state_of_charge[\"Battery Storage\"]"
   ]
  },
  {
   "cell_type": "markdown",
   "id": "97f82e1a",
   "metadata": {},
   "source": [
    "Prepare DataFrames"
   ]
  },
  {
   "cell_type": "code",
   "execution_count": 19,
   "id": "9d42c6d0",
   "metadata": {},
   "outputs": [],
   "source": [
    "df_generation = pd.DataFrame(generation, index=hours)\n",
    "df_generation['Storage Discharge'] = storage_discharging  # Show on bar\n",
    "\n",
    "df_storage = pd.DataFrame({\n",
    "    'Charging': storage_charging,\n",
    "    'Discharging': storage_discharging,\n",
    "    'SOC': storage_soc\n",
    "}, index=hours)"
   ]
  },
  {
   "cell_type": "markdown",
   "id": "27126cee",
   "metadata": {},
   "source": [
    "#### Step 2: Plot generation and storage operations"
   ]
  },
  {
   "cell_type": "code",
   "execution_count": 20,
   "id": "c71c5b58",
   "metadata": {},
   "outputs": [
    {
     "data": {
      "image/png": "[encoded data removed]",
      "text/plain": [
       "<Figure size 1500x700 with 2 Axes>"
      ]
     },
     "metadata": {},
     "output_type": "display_data"
    }
   ],
   "source": [
    "fig, ax1 = plt.subplots(figsize=(15, 7))\n",
    "\n",
    "# Consistent color codes for generators and storage\n",
    "color_map = {\n",
    "    'Coal Plant': 'royalblue',        \n",
    "    'Gas Plant': 'darkorange',\n",
    "    'Wind Farm': 'seagreen',          \n",
    "    'Storage Discharge': 'crimson'    \n",
    "}\n",
    "\n",
    "# Plot columns in preferred order\n",
    "plot_columns = [col for col in ['Coal Plant', 'Gas Plant', 'Wind Farm', 'Storage Discharge'] if col in df_generation.columns]\n",
    "bar_colors = [color_map[c] for c in plot_columns]\n",
    "\n",
    "df_generation[plot_columns].plot(\n",
    "    ax=ax1,\n",
    "    kind='bar',\n",
    "    stacked=True,\n",
    "    width=0.9,\n",
    "    color=bar_colors\n",
    ")\n",
    "\n",
    "ax1.set_title(\"Power Generation and Storage Operations\")\n",
    "ax1.set_xlabel(\"Hour\")\n",
    "ax1.set_ylabel(\"Generation (MW)\")\n",
    "ax1.set_xticks(range(24))\n",
    "ax1.legend(title=\"Generation Source\", loc='upper left', ncols=2)\n",
    "ax1.set_ylim(0, 250)\n",
    "ax1.grid(axis='y', linestyle=':', alpha=0.6)\n",
    "\n",
    "# Step 3: Overlay storage charging, discharging, SOC on secondary y-axis\n",
    "ax2 = ax1.twinx()\n",
    "\n",
    "df_storage['Charging'].plot(\n",
    "    ax=ax2,\n",
    "    color='green',\n",
    "    marker='^',\n",
    "    linestyle='-',\n",
    "    linewidth=1.5,\n",
    "    label='Charging'\n",
    ")\n",
    "df_storage['Discharging'].plot(\n",
    "    ax=ax2,\n",
    "    color='red',\n",
    "    marker='v',\n",
    "    linestyle='-',\n",
    "    linewidth=1.5,\n",
    "    label='Discharging'\n",
    ")\n",
    "df_storage['SOC'].plot(\n",
    "    ax=ax2,\n",
    "    color='blue',\n",
    "    marker='x',\n",
    "    linestyle='--',\n",
    "    linewidth=2,\n",
    "    label='SOC'\n",
    ")\n",
    "\n",
    "ax2.set_ylabel(\"Storage Charging/Discharging (MW) & SOC (MWh)\")\n",
    "ax2.set_ylim(0, 50)\n",
    "ax2.legend(title=\"Storage Ops\", loc='upper right', ncols=1)\n",
    "ax2.grid(axis='y', linestyle=':', alpha=0.4)\n",
    "\n",
    "plt.tight_layout()\n",
    "plt.show()"
   ]
  },
  {
   "cell_type": "markdown",
   "id": "e640cf58",
   "metadata": {},
   "source": [
    "### PART 5: Cost and Emissions Analysis"
   ]
  },
  {
   "cell_type": "markdown",
   "id": "b9cf8185",
   "metadata": {},
   "source": [
    "#### Step 1: Compute average energy cost"
   ]
  },
  {
   "cell_type": "code",
   "execution_count": 21,
   "id": "a8f1faad",
   "metadata": {},
   "outputs": [
    {
     "name": "stdout",
     "output_type": "stream",
     "text": [
      "\n",
      "--- Energy Cost Comparison ---\n",
      "Average Energy Cost Before (Fossil): 57.30\n",
      "Average Energy Cost After (Wind+Storage): 39.89\n"
     ]
    }
   ],
   "source": [
    "old_total_load = sum(network_old.loads_t.p_set[\"City Load\"])\n",
    "new_total_load = sum(network_new.loads_t.p_set[\"City Load\"])\n",
    "old_avg_cost = network_old.objective / old_total_load\n",
    "new_avg_cost = network_new.objective / new_total_load\n",
    "\n",
    "print(\"\\n--- Energy Cost Comparison ---\")\n",
    "print(f\"Average Energy Cost Before (Fossil): {old_avg_cost:.2f}\")\n",
    "print(f\"Average Energy Cost After (Wind+Storage): {new_avg_cost:.2f}\")"
   ]
  },
  {
   "cell_type": "markdown",
   "id": "99f68e30",
   "metadata": {},
   "source": [
    "#### Step 2: Assign emission factors and calculate total emissions"
   ]
  },
  {
   "cell_type": "code",
   "execution_count": 22,
   "id": "16594bc4",
   "metadata": {},
   "outputs": [
    {
     "name": "stdout",
     "output_type": "stream",
     "text": [
      "\n",
      "--- Emissions Comparison ---\n",
      "Total Emissions Before Integration: 2202.0 tons CO2\n",
      "Total Emissions After Integration: 1260.7 tons CO2\n"
     ]
    }
   ],
   "source": [
    "emission_factors = {\n",
    "    \"Coal Plant\": 0.9,    # tons CO2/MWh\n",
    "    \"Gas Plant\": 0.4,\n",
    "    \"Wind Farm\": 0\n",
    "}\n",
    "\n",
    "def assign_emissions(network, efactors):\n",
    "    for gen, ef in efactors.items():\n",
    "        if gen in network.generators.index:\n",
    "            network.generators.loc[gen, \"emission_factor\"] = ef\n",
    "\n",
    "assign_emissions(network_old, emission_factors)\n",
    "assign_emissions(network_new, emission_factors)\n",
    "\n",
    "def calculate_total_emissions(network):\n",
    "    total = 0\n",
    "    for gen_name, gen_data in network.generators.iterrows():\n",
    "        generation = network.generators_t.p[gen_name]\n",
    "        ef = gen_data.get(\"emission_factor\", 0)\n",
    "        total += sum(generation * ef)\n",
    "    return total\n",
    "\n",
    "old_emissions = calculate_total_emissions(network_old)\n",
    "new_emissions = calculate_total_emissions(network_new)\n",
    "\n",
    "print(\"\\n--- Emissions Comparison ---\")\n",
    "print(f\"Total Emissions Before Integration: {old_emissions:.1f} tons CO2\")\n",
    "print(f\"Total Emissions After Integration: {new_emissions:.1f} tons CO2\")"
   ]
  },
  {
   "cell_type": "markdown",
   "id": "59a57ed8",
   "metadata": {},
   "source": [
    "#### End of Windhaven Case Study Script"
   ]
  }
 ],
 "metadata": {
  "kernelspec": {
   "display_name": "Python 3 (ipykernel)",
   "language": "python",
   "name": "python3"
  },
  "language_info": {
   "codemirror_mode": {
    "name": "ipython",
    "version": 3
   },
   "file_extension": ".py",
   "mimetype": "text/x-python",
   "name": "python",
   "nbconvert_exporter": "python",
   "pygments_lexer": "ipython3",
   "version": "3.10.9"
  }
 },
 "nbformat": 4,
 "nbformat_minor": 5
}
